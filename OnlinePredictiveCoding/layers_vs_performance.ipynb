{
 "cells": [
  {
   "cell_type": "markdown",
   "metadata": {},
   "source": [
    "## 1. Number of Layers vs. Performance\n",
    "\n",
    "## **Datasets:**\n",
    "1. German\n",
    "2. Ionosphere\n",
    "3. Magic\n",
    "4. Spambase\n",
    "5. a8a\n",
    "6. svmguide3\n",
    "7. wbc\n",
    "8. wpbc\n",
    "9. wdbc\n",
    "\n",
    "## **Settings:**\n",
    "1. Full\n",
    "2. Varying Uniform\n",
    "3. Varying Gaussian + 0\n",
    "4. Varying Gaussian + 0.25\n",
    "5. Varying Gaussian + 0.5\n",
    "6. Varying Gaussian + 0.75\n",
    "\n",
    "## **Models:**\n",
    "1. 2-layer\n",
    "2. 3-layer\n",
    "3. 4-layer"
   ]
  },
  {
   "cell_type": "code",
   "execution_count": 1,
   "metadata": {},
   "outputs": [],
   "source": [
    "import model\n",
    "import dataloader as dl\n",
    "import numpy as np\n",
    "import trainer\n",
    "import parameters as p\n",
    "import copy\n",
    "import seaborn as sns\n",
    "import matplotlib.pyplot as plt\n",
    "import torch\n",
    "\n",
    "torch.manual_seed(p.random_state)\n",
    "np.random.seed(p.random_state)\n",
    "model_type = 'jeev_backprop'"
   ]
  },
  {
   "cell_type": "code",
   "execution_count": 2,
   "metadata": {},
   "outputs": [],
   "source": [
    "datasets = ['spambase', 'magic04', 'a8a']\n",
    "scenarios = {'varying_gaussian': dl.simulate_varying,\n",
    "             'varying_gaussian +.25': dl.simulate_varying_25,\n",
    "             'varying_gaussian +.50': dl.simulate_varying_50,\n",
    "             'varying_gaussian +.75': dl.simulate_varying_75,\n",
    "             'varying_uniform': dl.simulate_random_varying,\n",
    "             'full': dl.simulate_nothing}\n",
    "layer_settings = [2, 4, 6]"
   ]
  },
  {
   "cell_type": "code",
   "execution_count": 3,
   "metadata": {},
   "outputs": [],
   "source": [
    "def experiment():\n",
    "    # initialize the dicts for collecting results\n",
    "    results = {}\n",
    "    masks = {}\n",
    "    occurrences = {}\n",
    "    losses = {}\n",
    "    errors = {}\n",
    "\n",
    "    for dataset in datasets:\n",
    "        results[dataset] = {}\n",
    "        masks[dataset] = {}\n",
    "        losses[dataset] = {}\n",
    "        errors[dataset] = {}\n",
    "        \n",
    "        for scenario in p.scenarios:\n",
    "            results[dataset][scenario] = {}\n",
    "            masks[dataset][scenario] = {}\n",
    "            losses[dataset][scenario] = {}\n",
    "            errors[dataset][scenario] = {}\n",
    "            \n",
    "            for layer in layer_settings:\n",
    "                results[dataset][scenario][layer] = 0\n",
    "                masks[dataset][scenario][layer] = []\n",
    "                losses[dataset][scenario][layer] = []\n",
    "                errors[dataset][scenario][layer] = []\n",
    "                \n",
    "\n",
    "    # run the experiments\n",
    "    for dataset_name in datasets:\n",
    "        for scenario in scenarios:\n",
    "            for layer in layer_settings:\n",
    "                p.num_layers = layer\n",
    "                Xpath, ypath = dl.get_path(dataset_name)\n",
    "                X, y = dl.read_dataset(Xpath, ypath)\n",
    "                num_features = len(X[0])\n",
    "                m = p.models[model_type](num_features, p.learning_rate, layer)\n",
    "                fold_errors, fold_losses, fold_weights, fold_masks, error_lists = trainer.cross_validation(X, y, m, p.folds, p.scenarios[scenario])\n",
    "                masks[dataset_name][scenario][layer] = fold_masks\n",
    "                losses[dataset_name][scenario][layer] = fold_losses\n",
    "                errors[dataset_name][scenario][layer] = error_lists\n",
    "                results[dataset_name][scenario][layer] = np.mean(fold_errors)\n",
    "                print(dataset_name, scenario, layer, model_type, np.mean(fold_errors))\n",
    "            print()\n",
    "        \n",
    "    return results, masks, losses, errors"
   ]
  },
  {
   "cell_type": "code",
   "execution_count": null,
   "metadata": {},
   "outputs": [
    {
     "name": "stdout",
     "output_type": "stream",
     "text": [
      "spambase varying_gaussian 2 jeev_backprop 0.2514782608695652\n",
      "spambase varying_gaussian 4 jeev_backprop 0.2506630434782609\n"
     ]
    }
   ],
   "source": [
    "results, masks, losses, errors = experiment()"
   ]
  },
  {
   "cell_type": "code",
   "execution_count": null,
   "metadata": {},
   "outputs": [],
   "source": []
  },
  {
   "cell_type": "code",
   "execution_count": null,
   "metadata": {},
   "outputs": [],
   "source": []
  }
 ],
 "metadata": {
  "kernelspec": {
   "display_name": "Python 3",
   "language": "python",
   "name": "python3"
  }
 },
 "nbformat": 4,
 "nbformat_minor": 2
}
