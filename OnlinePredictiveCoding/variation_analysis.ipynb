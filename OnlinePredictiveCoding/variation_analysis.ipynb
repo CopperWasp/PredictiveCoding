{
 "cells": [
  {
   "cell_type": "markdown",
   "metadata": {},
   "source": [
    "# Analysis of Variation Types in Feature Spaces"
   ]
  },
  {
   "cell_type": "markdown",
   "metadata": {},
   "source": [
    "## 1. Comparison of Performance of a Traditional Learner in Different Variation Patterns\n",
    "We try to observe any recurring pattern in terms of performance when variation pattern differs."
   ]
  },
  {
   "cell_type": "code",
   "execution_count": 1,
   "metadata": {},
   "outputs": [
    {
     "name": "stdout",
     "output_type": "stream",
     "text": [
      "german varying_gaussian + 0.5 2 opcbackprop 0.38350000000000006\n",
      "german varying_gaussian + 0.5 3 opcbackprop 0.38754999999999995\n",
      "german varying_gaussian + 0.5 4 opcbackprop 0.37949999999999995\n",
      "ionosphere varying_gaussian + 0.5 2 opcbackprop 0.4267142857142857\n",
      "ionosphere varying_gaussian + 0.5 3 opcbackprop 0.42400000000000004\n",
      "ionosphere varying_gaussian + 0.5 4 opcbackprop 0.40128571428571436\n",
      "spambase varying_gaussian + 0.5 2 opcbackprop 0.2695760869565218\n",
      "spambase varying_gaussian + 0.5 3 opcbackprop 0.2663478260869565\n",
      "spambase varying_gaussian + 0.5 4 opcbackprop 0.2674130434782609\n",
      "svmguide3 varying_gaussian + 0.5 2 opcbackprop 0.34666130329847145\n",
      "svmguide3 varying_gaussian + 0.5 3 opcbackprop 0.34336283185840705\n",
      "svmguide3 varying_gaussian + 0.5 4 opcbackprop 0.3449316170555109\n",
      "wpbc varying_gaussian + 0.5 2 opcbackprop 0.35530303030303034\n",
      "wpbc varying_gaussian + 0.5 3 opcbackprop 0.35732323232323226\n",
      "wpbc varying_gaussian + 0.5 4 opcbackprop 0.36388888888888893\n",
      "wdbc varying_gaussian + 0.5 2 opcbackprop 0.396572934973638\n",
      "wdbc varying_gaussian + 0.5 3 opcbackprop 0.3236379613356766\n",
      "wdbc varying_gaussian + 0.5 4 opcbackprop 0.28989455184534274\n",
      "magic04 varying_gaussian + 0.5 2 opcbackprop 0.3923707871076292\n",
      "magic04 varying_gaussian + 0.5 3 opcbackprop 0.3847888953152111\n",
      "magic04 varying_gaussian + 0.5 4 opcbackprop 0.3833902939166097\n",
      "a8a varying_gaussian + 0.5 2 opcbackprop 0.27903815650334857\n",
      "a8a varying_gaussian + 0.5 3 opcbackprop 0.27883107155445896\n",
      "a8a varying_gaussian + 0.5 4 opcbackprop 0.277233873810363\n",
      "\n"
     ]
    },
    {
     "data": {
      "image/png": "[encoded data removed]",
      "text/plain": [
       "<Figure size 720x720 with 1 Axes>"
      ]
     },
     "metadata": {
      "needs_background": "light"
     },
     "output_type": "display_data"
    }
   ],
   "source": [
    "import model\n",
    "import dataloader as dl\n",
    "import numpy as np\n",
    "import trainer\n",
    "import parameters as p\n",
    "import copy\n",
    "import seaborn as sns\n",
    "import matplotlib.pyplot as plt\n",
    "import pandas as pd\n",
    "\n",
    "datasets = ['german', 'ionosphere', 'spambase','svmguide3','wpbc','wdbc','magic04','a8a']\n",
    "model_type = 'opcbackprop'\n",
    "\n",
    "\n",
    "# initialize results dict\n",
    "results = {}\n",
    "masks = {}\n",
    "occurrences = {}\n",
    "\n",
    "for dataset in datasets:\n",
    "    results[dataset] = {}\n",
    "    masks[dataset] = {}\n",
    "    occurrences[dataset] = {}\n",
    "    for num_layer in p.num_layers:\n",
    "        results[dataset][num_layer] = 0\n",
    "        masks[dataset][num_layer] = []\n",
    "        \n",
    "for scenario in p.scenarios:\n",
    "    for dataset_name in p.datasets:\n",
    "        for num_layers in p.num_layers:\n",
    "            Xpath, ypath = dl.get_path(dataset_name)\n",
    "            X, y = dl.read_dataset(Xpath, ypath)\n",
    "            num_features = len(X[0])\n",
    "            m = p.models[model_type](num_features, p.learning_rate,num_layers)\n",
    "            fold_errors, fold_losses, fold_weights, fold_masks = trainer.cross_validation(X, y, m, p.folds, p.scenarios[scenario],p.cov_strength[scenario])\n",
    "            masks[dataset_name][num_layers] = fold_masks\n",
    "            results[dataset_name][num_layers] = np.mean(fold_errors)\n",
    "            print(dataset_name, scenario, num_layers, model_type, np.mean(fold_errors))\n",
    "    print()    \n",
    "\n",
    "    \n",
    "# plot results for each dataset\n",
    "'''\n",
    "for dataset_name in datasets:\n",
    "    plt.title(dataset_name)\n",
    "    plt.ylabel('Error Rate')\n",
    "    plt.bar(results[dataset_name].keys(), results[dataset_name].values())\n",
    "    plt.show()\n",
    "'''\n",
    "df = pd.DataFrame(results).T\n",
    "ax = df.plot(kind=\"bar\",figsize=(10, 10),title =\"Analysis with Num_layers\")\n",
    "ax.set_xlabel(\"Dataset\")\n",
    "ax.set_ylabel(\"Error_rate\")\n",
    "fig = ax.get_figure()\n",
    "fig.savefig('number_of_layers.png')\n",
    "\n"
   ]
  },
  {
   "cell_type": "code",
   "execution_count": 2,
   "metadata": {},
   "outputs": [
    {
     "ename": "KeyError",
     "evalue": "'varying_gaussian + 0.5'",
     "output_type": "error",
     "traceback": [
      "\u001b[0;31m---------------------------------------------------------------------------\u001b[0m",
      "\u001b[0;31mKeyError\u001b[0m                                  Traceback (most recent call last)",
      "\u001b[0;32m<ipython-input-2-4f1dec84ceed>\u001b[0m in \u001b[0;36m<module>\u001b[0;34m\u001b[0m\n\u001b[1;32m      1\u001b[0m \u001b[0;32mfor\u001b[0m \u001b[0mkey\u001b[0m \u001b[0;32min\u001b[0m \u001b[0mmasks\u001b[0m\u001b[0;34m:\u001b[0m\u001b[0;34m\u001b[0m\u001b[0;34m\u001b[0m\u001b[0m\n\u001b[1;32m      2\u001b[0m     \u001b[0;32mfor\u001b[0m \u001b[0mscenario\u001b[0m \u001b[0;32min\u001b[0m \u001b[0mp\u001b[0m\u001b[0;34m.\u001b[0m\u001b[0mscenarios\u001b[0m\u001b[0;34m:\u001b[0m\u001b[0;34m\u001b[0m\u001b[0;34m\u001b[0m\u001b[0m\n\u001b[0;32m----> 3\u001b[0;31m         \u001b[0msum_masks\u001b[0m \u001b[0;34m=\u001b[0m \u001b[0mcopy\u001b[0m\u001b[0;34m.\u001b[0m\u001b[0mdeepcopy\u001b[0m\u001b[0;34m(\u001b[0m\u001b[0mmasks\u001b[0m\u001b[0;34m[\u001b[0m\u001b[0mkey\u001b[0m\u001b[0;34m]\u001b[0m\u001b[0;34m[\u001b[0m\u001b[0mscenario\u001b[0m\u001b[0;34m]\u001b[0m\u001b[0;34m[\u001b[0m\u001b[0;36m0\u001b[0m\u001b[0;34m]\u001b[0m\u001b[0;34m)\u001b[0m\u001b[0;34m\u001b[0m\u001b[0;34m\u001b[0m\u001b[0m\n\u001b[0m\u001b[1;32m      4\u001b[0m         \u001b[0;32mfor\u001b[0m \u001b[0mi\u001b[0m \u001b[0;32min\u001b[0m \u001b[0mrange\u001b[0m\u001b[0;34m(\u001b[0m\u001b[0;36m1\u001b[0m\u001b[0;34m,\u001b[0m \u001b[0mlen\u001b[0m\u001b[0;34m(\u001b[0m\u001b[0mmasks\u001b[0m\u001b[0;34m[\u001b[0m\u001b[0mkey\u001b[0m\u001b[0;34m]\u001b[0m\u001b[0;34m[\u001b[0m\u001b[0mscenario\u001b[0m\u001b[0;34m]\u001b[0m\u001b[0;34m)\u001b[0m\u001b[0;34m)\u001b[0m\u001b[0;34m:\u001b[0m\u001b[0;34m\u001b[0m\u001b[0;34m\u001b[0m\u001b[0m\n\u001b[1;32m      5\u001b[0m             \u001b[0msum_masks\u001b[0m \u001b[0;34m+=\u001b[0m \u001b[0mmasks\u001b[0m\u001b[0;34m[\u001b[0m\u001b[0mkey\u001b[0m\u001b[0;34m]\u001b[0m\u001b[0;34m[\u001b[0m\u001b[0mscenario\u001b[0m\u001b[0;34m]\u001b[0m\u001b[0;34m[\u001b[0m\u001b[0mi\u001b[0m\u001b[0;34m]\u001b[0m\u001b[0;34m\u001b[0m\u001b[0;34m\u001b[0m\u001b[0m\n",
      "\u001b[0;31mKeyError\u001b[0m: 'varying_gaussian + 0.5'"
     ]
    }
   ],
   "source": [
    "for key in masks:\n",
    "    for scenario in p.scenarios:\n",
    "        sum_masks = copy.deepcopy(masks[key][scenario][0])\n",
    "        for i in range(1, len(masks[key][scenario])):\n",
    "            sum_masks += masks[key][scenario][i]\n",
    "\n",
    "        avg_sum_masks =  sum_masks / len(masks[key][scenario])\n",
    "        avg_sum_masks = np.sum(avg_sum_masks, axis=0) / len(sum_masks)\n",
    "        occurrences[key][scenario] = avg_sum_masks\n",
    "        \n",
    "        plt.title(key + scenario)\n",
    "        plt.plot(occurrences[key][scenario])\n",
    "        plt.show()"
   ]
  },
  {
   "cell_type": "markdown",
   "metadata": {},
   "source": [
    "**We have made two observations so far:**\n",
    "1. Performance in non-uniformly distributed variation in feature spaces is worse than uniform.\n",
    "2. Checking the average availability frequency of features don't immediately give an explanation about this.\n",
    "\n",
    "After this, Jeev suggested to look at the co-occurrences of features."
   ]
  },
  {
   "cell_type": "markdown",
   "metadata": {},
   "source": [
    "## Performance vs. Feature Co-Occurrence Patterns\n",
    "Let us take the *german* dataset and see how feature co-occurrences look like in different versions of the variation.\n",
    "To do this, we first merge the masks from different folds of cross-validation we have.\n",
    "Masks represent the feature availability in a training instance, therefore, useful when we are working on structures of feature spaces.\n"
   ]
  },
  {
   "cell_type": "code",
   "execution_count": null,
   "metadata": {},
   "outputs": [],
   "source": [
    "def show_cov_mat(masks, dataset, setting):\n",
    "    m = masks[dataset][setting]\n",
    "    joint_mask = m[0]\n",
    "    \n",
    "    for i in range(1, len(m)):\n",
    "        joint_mask = np.vstack((joint_mask, m[i]))\n",
    "    \n",
    "    cov_mat = np.cov(joint_mask.T)\n",
    "    sns.heatmap(cov_mat)\n",
    "    plt.show()\n",
    "    return cov_mat\n",
    "\n",
    "\n",
    "settings = ['full', 'varying_uniform', 'varying_gaussian']\n",
    "\n",
    "for dataset in datasets:\n",
    "    for setting in settings:\n",
    "        print(dataset)\n",
    "        show_cov_mat(masks, dataset, setting)"
   ]
  },
  {
   "cell_type": "markdown",
   "metadata": {},
   "source": [
    "We see that an important is that varying feature spaces distribution in a uniform fashion have low covariance -> feature co-occurrence. This means feature occurrences don't follow a particular pattern. On the other hand, for gaussian, there exists various amounts of covariance between features, starting to form a pattern. This seems to be making learning harder for some reason.\n",
    "\n",
    "**Note:** In both cases, the diagonal of the matrix seems to be 0.25. Diagonals of a covariance matrix are the variances of the components of the vector."
   ]
  },
  {
   "cell_type": "markdown",
   "metadata": {},
   "source": [
    "## Relationship Between the Amount of Covariance in Varying Gaussian and the Traditional Model Performance\n",
    "In this section, we take the generator of varying_gaussian and modify it in a way that it removes features in different levels of variation."
   ]
  },
  {
   "cell_type": "code",
   "execution_count": null,
   "metadata": {},
   "outputs": [],
   "source": []
  },
  {
   "cell_type": "code",
   "execution_count": null,
   "metadata": {},
   "outputs": [],
   "source": []
  },
  {
   "cell_type": "code",
   "execution_count": null,
   "metadata": {},
   "outputs": [],
   "source": []
  },
  {
   "cell_type": "code",
   "execution_count": null,
   "metadata": {},
   "outputs": [],
   "source": []
  },
  {
   "cell_type": "code",
   "execution_count": null,
   "metadata": {},
   "outputs": [],
   "source": []
  },
  {
   "cell_type": "code",
   "execution_count": null,
   "metadata": {},
   "outputs": [],
   "source": []
  },
  {
   "cell_type": "code",
   "execution_count": null,
   "metadata": {},
   "outputs": [],
   "source": []
  },
  {
   "cell_type": "code",
   "execution_count": null,
   "metadata": {},
   "outputs": [],
   "source": []
  }
 ],
 "metadata": {
  "kernelspec": {
   "display_name": "Python 3",
   "language": "python",
   "name": "python3"
  },
  "language_info": {
   "codemirror_mode": {
    "name": "ipython",
    "version": 3
   },
   "file_extension": ".py",
   "mimetype": "text/x-python",
   "name": "python",
   "nbconvert_exporter": "python",
   "pygments_lexer": "ipython3",
   "version": "3.8.3"
  }
 },
 "nbformat": 4,
 "nbformat_minor": 4
}
