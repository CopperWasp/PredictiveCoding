{
 "cells": [
  {
   "cell_type": "code",
   "execution_count": 104,
   "metadata": {},
   "outputs": [],
   "source": [
    "import pandas as pd\n",
    "import numpy as np\n",
    "from sklearn import preprocessing"
   ]
  },
  {
   "cell_type": "code",
   "execution_count": 105,
   "metadata": {},
   "outputs": [],
   "source": [
    "#data=np.genfromtxt(\"datasets/magic04\")            # german dataset \n",
    "data = pd.read_csv(\"datasets/wpbc.data\",delimiter=',',header=None)                          # ionosphere & spambase datasets\n",
    "data = data.drop(0 , axis=1)\n",
    "label = data[data.columns[0]].values\n",
    "data = data.drop(1, axis =1)\n",
    "#X = data.values[:,:-1]\n",
    "#label=data[:,-1]\n",
    "data=data.replace(\"?\", 0)\n",
    "\n",
    "from sklearn.datasets import load_svmlight_file\n",
    "#mem = Memory(\"./mycache\")\n",
    "\n",
    "#@mem.cache\n",
    "def get_data():\n",
    "    data = load_svmlight_file(\"datasets/svmguide3.txt\")\n",
    "    return data[0], data[1]\n",
    "\n",
    "#X, y = get_data()\n",
    "#print(X.toarray().shape)\n",
    "#X = X.toaadatac = da\n"
   ]
  },
  {
   "cell_type": "code",
   "execution_count": 106,
   "metadata": {},
   "outputs": [],
   "source": [
    "\n",
    "#label[label==0] = -1     # spambase\n",
    "#label[label=='g'] = -1  # inonosphere\n",
    "#label[label=='b'] = 1  #ionosphere\n",
    "#label[label==2] = -1    # german\n",
    "\n",
    "label[label=='N'] = 1\n",
    "label[label=='R'] = -1\n",
    "\n",
    "X= data.values"
   ]
  },
  {
   "cell_type": "code",
   "execution_count": 107,
   "metadata": {},
   "outputs": [],
   "source": [
    "# min-max scaling "
   ]
  },
  {
   "cell_type": "code",
   "execution_count": 108,
   "metadata": {},
   "outputs": [],
   "source": [
    "min_max_scaler = preprocessing.MinMaxScaler()\n",
    "x_scaled = min_max_scaler.fit_transform(X)\n",
    "df = pd.DataFrame(x_scaled)"
   ]
  },
  {
   "cell_type": "code",
   "execution_count": 109,
   "metadata": {},
   "outputs": [],
   "source": [
    "df.to_csv(r'datasets/wpbc_numeric_X.csv', index = False)"
   ]
  },
  {
   "cell_type": "code",
   "execution_count": 110,
   "metadata": {},
   "outputs": [],
   "source": [
    "df_labels = pd.DataFrame(label)"
   ]
  },
  {
   "cell_type": "code",
   "execution_count": 111,
   "metadata": {},
   "outputs": [],
   "source": [
    "df_labels.to_csv(r'datasets/wpbc_numeric_y.csv', index = False)"
   ]
  },
  {
   "cell_type": "code",
   "execution_count": null,
   "metadata": {},
   "outputs": [],
   "source": []
  }
 ],
 "metadata": {
  "kernelspec": {
   "display_name": "Python 3",
   "language": "python",
   "name": "python3"
  },
  "language_info": {
   "codemirror_mode": {
    "name": "ipython",
    "version": 3
   },
   "file_extension": ".py",
   "mimetype": "text/x-python",
   "name": "python",
   "nbconvert_exporter": "python",
   "pygments_lexer": "ipython3",
   "version": "3.8.3"
  }
 },
 "nbformat": 4,
 "nbformat_minor": 4
}
