{
 "cells": [
  {
   "cell_type": "code",
   "execution_count": 10,
   "metadata": {},
   "outputs": [],
   "source": [
    "import pandas as pd\n",
    "import numpy as np\n",
    "from sklearn import preprocessing"
   ]
  },
  {
   "cell_type": "code",
   "execution_count": 15,
   "metadata": {},
   "outputs": [
    {
     "name": "stdout",
     "output_type": "stream",
     "text": [
      "        28.7967   16.0021  2.6449  0.3918  0.1982   27.7004    22.011  \\\n",
      "0       31.6036   11.7235  2.5185  0.5303  0.3773   26.2722   23.8238   \n",
      "1      162.0520  136.0310  4.0612  0.0374  0.0187  116.7410  -64.8580   \n",
      "2       23.8172    9.5728  2.3385  0.6147  0.3922   27.2107   -6.4633   \n",
      "3       75.1362   30.9205  3.1611  0.3168  0.1832   -5.5277   28.5525   \n",
      "4       51.6240   21.1502  2.9085  0.2420  0.1340   50.8761   43.1887   \n",
      "...         ...       ...     ...     ...     ...       ...       ...   \n",
      "19014   21.3846   10.9170  2.6161  0.5857  0.3934   15.2618   11.5245   \n",
      "19015   28.9452    6.7020  2.2672  0.5351  0.2784   37.0816   13.1853   \n",
      "19016   75.4455   47.5305  3.4483  0.1417  0.0549   -9.3561   41.0562   \n",
      "19017  120.5135   76.9018  3.9939  0.0944  0.0683    5.8043  -93.5224   \n",
      "19018  187.1814   53.0014  3.2093  0.2876  0.1539 -167.3125 -168.4558   \n",
      "\n",
      "       -8.2027   40.092   81.8828  g  \n",
      "0      -9.9574   6.3609  205.2610  g  \n",
      "1     -45.2160  76.9600  256.7880  g  \n",
      "2      -7.1513  10.4490  116.7370  g  \n",
      "3      21.8393   4.6480  356.4620  g  \n",
      "4       9.8145   3.6130  238.0980  g  \n",
      "...        ...      ...       ... ..  \n",
      "19014   2.8766   2.4229  106.8258  h  \n",
      "19015  -2.9632  86.7975  247.4560  h  \n",
      "19016  -9.4662  30.2987  256.5166  h  \n",
      "19017 -63.8389  84.6874  408.3166  h  \n",
      "19018  31.4755  52.7310  272.3174  h  \n",
      "\n",
      "[19019 rows x 11 columns]\n"
     ]
    }
   ],
   "source": [
    "#data=np.genfromtxt(\"datasets/magic04\")            # german dataset \n",
    "data = pd.read_csv(\"datasets/magic04\",delimiter=',')                          # ionosphere & spambase datasets\n",
    "label = data.values[:,-1]\n",
    "X = data.values[:,:-1]\n",
    "#label=data[:,-1]"
   ]
  },
  {
   "cell_type": "code",
   "execution_count": 17,
   "metadata": {},
   "outputs": [
    {
     "data": {
      "text/plain": [
       "array([1, 1, 1, ..., 'h', 'h', 'h'], dtype=object)"
      ]
     },
     "execution_count": 17,
     "metadata": {},
     "output_type": "execute_result"
    }
   ],
   "source": [
    "\n",
    "#label[label==0] = -1     # spambase\n",
    "#label[label=='g'] = -1  # inonosphere\n",
    "#label[label=='b'] = 1  #ionosphere\n",
    "#label[label==2] = -1    # german\n",
    "\n",
    "label[label=='g'] = 1\n",
    "label[label=='']=-1\n",
    "label"
   ]
  },
  {
   "cell_type": "code",
   "execution_count": null,
   "metadata": {},
   "outputs": [],
   "source": [
    "# min-max scaling "
   ]
  },
  {
   "cell_type": "code",
   "execution_count": 45,
   "metadata": {},
   "outputs": [],
   "source": [
    "min_max_scaler = preprocessing.MinMaxScaler()\n",
    "x_scaled = min_max_scaler.fit_transform(X)\n",
    "df = pd.DataFrame(x_scaled)"
   ]
  },
  {
   "cell_type": "code",
   "execution_count": 46,
   "metadata": {},
   "outputs": [],
   "source": [
    "df.to_csv(r'datasets/spambase_numeric_X.csv', index = False)"
   ]
  },
  {
   "cell_type": "code",
   "execution_count": 47,
   "metadata": {},
   "outputs": [],
   "source": [
    "df_labels = pd.DataFrame(label)"
   ]
  },
  {
   "cell_type": "code",
   "execution_count": 48,
   "metadata": {},
   "outputs": [],
   "source": [
    "df_labels.to_csv(r'datasets/spambase_numeric_y.csv', index = False)"
   ]
  },
  {
   "cell_type": "code",
   "execution_count": null,
   "metadata": {},
   "outputs": [],
   "source": []
  }
 ],
 "metadata": {
  "kernelspec": {
   "display_name": "Python 3",
   "language": "python",
   "name": "python3"
  },
  "language_info": {
   "codemirror_mode": {
    "name": "ipython",
    "version": 3
   },
   "file_extension": ".py",
   "mimetype": "text/x-python",
   "name": "python",
   "nbconvert_exporter": "python",
   "pygments_lexer": "ipython3",
   "version": "3.8.3"
  }
 },
 "nbformat": 4,
 "nbformat_minor": 4
}
