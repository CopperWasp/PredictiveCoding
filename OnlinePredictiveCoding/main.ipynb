{
 "cells": [
  {
   "cell_type": "code",
   "execution_count": 1,
   "metadata": {},
   "outputs": [
    {
     "name": "stdout",
     "output_type": "stream",
     "text": [
      "a8a hinge_gradient 0.3263989249206909 opc varying_gaussian\n",
      "a8a se_gradient 0.3602749383151216 opc varying_gaussian\n",
      "a8a hinge_oco 0.326242509693338 opc varying_gaussian\n",
      "a8a opc 0.7847858653507227 opc varying_gaussian\n",
      "\n",
      "german hinge_gradient 0.39870000000000005 opc varying_gaussian\n",
      "german se_gradient 0.3921 opc varying_gaussian\n",
      "german hinge_oco 0.39774999999999994 opc varying_gaussian\n",
      "german opc 0.3924500000000001 opc varying_gaussian\n",
      "\n",
      "ionosphere hinge_gradient 0.42928571428571427 opc varying_gaussian\n",
      "ionosphere se_gradient 0.4564285714285714 opc varying_gaussian\n",
      "ionosphere hinge_oco 0.4174285714285714 opc varying_gaussian\n",
      "ionosphere opc 0.42000000000000004 opc varying_gaussian\n",
      "\n",
      "spambase hinge_gradient 0.3979456521739131 opc varying_gaussian\n",
      "spambase se_gradient 0.5093152173913044 opc varying_gaussian\n",
      "spambase hinge_oco 0.3998913043478261 opc varying_gaussian\n",
      "spambase opc 0.6633152173913044 opc varying_gaussian\n",
      "\n",
      "magic04 hinge_gradient 0.39105368315894634 opc varying_gaussian\n",
      "magic04 se_gradient 0.43087438876912554 opc varying_gaussian\n",
      "magic04 hinge_oco 0.3865424049634576 opc varying_gaussian\n",
      "magic04 opc 0.43371891266628104 opc varying_gaussian\n",
      "\n"
     ]
    }
   ],
   "source": [
    "import model\n",
    "import dataloader as dl\n",
    "import numpy as np\n",
    "import trainer\n",
    "import parameters as p\n",
    "import copy\n",
    "\n",
    "np.random.seed(p.random_state)\n",
    "\n",
    "for dataset_name in p.datasets:\n",
    "    for model_type in p.models:\n",
    "        Xpath, ypath = dl.get_path(dataset_name)\n",
    "        X, y = dl.read_dataset(Xpath, ypath)\n",
    "        num_features = len(X[0])\n",
    "        m = p.models[model_type](num_features, p.learning_rate)\n",
    "        fold_errors, fold_losses, fold_weights = trainer.cross_validation(X, y, m, p.folds, p.scenarios[p.scenario])\n",
    "        print(dataset_name, model_type, np.mean(fold_errors), p.model_type, p.scenario)\n",
    "    print()"
   ]
  },
  {
   "cell_type": "code",
   "execution_count": null,
   "metadata": {},
   "outputs": [],
   "source": []
  },
  {
   "cell_type": "code",
   "execution_count": null,
   "metadata": {},
   "outputs": [],
   "source": []
  },
  {
   "cell_type": "code",
   "execution_count": null,
   "metadata": {},
   "outputs": [],
   "source": []
  }
 ],
 "metadata": {
  "kernelspec": {
   "display_name": "Python 3",
   "language": "python",
   "name": "python3"
  },
  "language_info": {
   "codemirror_mode": {
    "name": "ipython",
    "version": 3
   },
   "file_extension": ".py",
   "mimetype": "text/x-python",
   "name": "python",
   "nbconvert_exporter": "python",
   "pygments_lexer": "ipython3",
   "version": "3.7.4"
  }
 },
 "nbformat": 4,
 "nbformat_minor": 4
}
