{
 "cells": [
  {
   "cell_type": "markdown",
   "metadata": {},
   "source": [
    "# 1. Number of Layers vs. Performance\n",
    "\n",
    "## **Datasets:**\n",
    "1. German\n",
    "2. Ionosphere\n",
    "3. Magic\n",
    "4. Spambase\n",
    "5. a8a\n",
    "6. svmguide3\n",
    "7. wbc\n",
    "8. wpbc\n",
    "9. wdbc\n",
    "\n",
    "## **Settings:**\n",
    "1. Full\n",
    "2. Varying Uniform\n",
    "3. Varying Gaussian + 0\n",
    "4. Varying Gaussian + 0.25\n",
    "5. Varying Gaussian + 0.5\n",
    "6. Varying Gaussian + 0.75\n",
    "\n",
    "## **Models:**\n",
    "1. 2-layer\n",
    "2. 3-layer\n",
    "3. 4-layer"
   ]
  },
  {
   "cell_type": "code",
   "execution_count": 1,
   "metadata": {},
   "outputs": [],
   "source": [
    "import model\n",
    "import dataloader as dl\n",
    "import numpy as np\n",
    "import trainer\n",
    "import parameters as p\n",
    "import copy\n",
    "import seaborn as sns\n",
    "import matplotlib.pyplot as plt\n",
    "import torch\n",
    "\n",
    "torch.manual_seed(p.random_state)\n",
    "np.random.seed(p.random_state)\n",
    "model_type = 'jeev_backprop'"
   ]
  },
  {
   "cell_type": "code",
   "execution_count": 2,
   "metadata": {},
   "outputs": [],
   "source": [
    "datasets = ['ionosphere', 'german', 'spambase', 'magic04', 'a8a']\n",
    "scenarios = {'varying_gaussian': dl.simulate_varying,\n",
    "             'varying_gaussian +.25': dl.simulate_varying_25,\n",
    "             'varying_gaussian +.50': dl.simulate_varying_50,\n",
    "             'varying_gaussian +.75': dl.simulate_varying_75,\n",
    "             'varying_uniform': dl.simulate_random_varying,\n",
    "             'full': dl.simulate_nothing}\n",
    "layer_settings = [2, 4, 6]"
   ]
  },
  {
   "cell_type": "code",
   "execution_count": 3,
   "metadata": {},
   "outputs": [],
   "source": [
    "def experiment():\n",
    "    # initialize the dicts for collecting results\n",
    "    results = {}\n",
    "    masks = {}\n",
    "    occurrences = {}\n",
    "    losses = {}\n",
    "    errors = {}\n",
    "\n",
    "    for dataset in datasets:\n",
    "        results[dataset] = {}\n",
    "        masks[dataset] = {}\n",
    "        losses[dataset] = {}\n",
    "        errors[dataset] = {}\n",
    "        \n",
    "        for scenario in p.scenarios:\n",
    "            results[dataset][scenario] = {}\n",
    "            masks[dataset][scenario] = {}\n",
    "            losses[dataset][scenario] = {}\n",
    "            errors[dataset][scenario] = {}\n",
    "            \n",
    "            for layer in layer_settings:\n",
    "                results[dataset][scenario][layer] = 0\n",
    "                masks[dataset][scenario][layer] = []\n",
    "                losses[dataset][scenario][layer] = []\n",
    "                errors[dataset][scenario][layer] = []\n",
    "                \n",
    "\n",
    "    # run the experiments\n",
    "    for dataset_name in datasets:\n",
    "        for scenario in scenarios:\n",
    "            for layer in layer_settings:\n",
    "                p.num_layers = layer\n",
    "                Xpath, ypath = dl.get_path(dataset_name)\n",
    "                X, y = dl.read_dataset(Xpath, ypath)\n",
    "                num_features = len(X[0])\n",
    "                m = p.models[model_type](num_features, p.learning_rate, layer)\n",
    "                fold_errors, fold_losses, fold_weights, fold_masks, error_lists = trainer.cross_validation(X, y, m, p.folds, p.scenarios[scenario])\n",
    "                masks[dataset_name][scenario][layer] = fold_masks\n",
    "                losses[dataset_name][scenario][layer] = fold_losses\n",
    "                errors[dataset_name][scenario][layer] = error_lists\n",
    "                results[dataset_name][scenario][layer] = np.mean(fold_errors)\n",
    "                print(dataset_name, scenario, layer, model_type, np.mean(fold_errors))\n",
    "            print()\n",
    "        \n",
    "    return results, masks, losses, errors"
   ]
  },
  {
   "cell_type": "code",
   "execution_count": 4,
   "metadata": {},
   "outputs": [
    {
     "name": "stdout",
     "output_type": "stream",
     "text": [
      "ionosphere varying_gaussian 2 jeev_backprop 0.4362857142857143\n",
      "ionosphere varying_gaussian 3 jeev_backprop 0.42828571428571427\n"
     ]
    },
    {
     "name": "stderr",
     "output_type": "stream",
     "text": [
      "ERROR:root:Internal Python error in the inspect module.\n",
      "Below is the traceback from this internal error.\n",
      "\n"
     ]
    },
    {
     "name": "stdout",
     "output_type": "stream",
     "text": [
      "Traceback (most recent call last):\n",
      "  File \"/Users/copperwasp/anaconda3/lib/python3.7/site-packages/IPython/core/interactiveshell.py\", line 3326, in run_code\n",
      "    exec(code_obj, self.user_global_ns, self.user_ns)\n",
      "  File \"<ipython-input-4-31a79ee021a6>\", line 1, in <module>\n",
      "    results, masks, losses, errors = experiment()\n",
      "  File \"<ipython-input-3-8976f8b05fcd>\", line 37, in experiment\n",
      "    fold_errors, fold_losses, fold_weights, fold_masks, error_lists = trainer.cross_validation(X, y, m, p.folds, p.scenarios[scenario])\n",
      "  File \"/Users/copperwasp/Desktop/PredictiveCoding/OnlinePredictiveCoding/trainer.py\", line 45, in cross_validation\n",
      "    losses, predictions, error_rate, weights, error_list = train(X_copy, y, model)\n",
      "  File \"/Users/copperwasp/Desktop/PredictiveCoding/OnlinePredictiveCoding/trainer.py\", line 14, in train\n",
      "    loss = model.update(X[i], y[i])\n",
      "  File \"/Users/copperwasp/Desktop/PredictiveCoding/OnlinePredictiveCoding/model.py\", line 287, in update\n",
      "    pred = self.predict(x, detach=False)\n",
      "  File \"/Users/copperwasp/Desktop/PredictiveCoding/OnlinePredictiveCoding/model.py\", line 279, in predict\n",
      "    yhat = self.model(x_tensor)\n",
      "  File \"/Users/copperwasp/anaconda3/lib/python3.7/site-packages/torch/nn/modules/module.py\", line 722, in _call_impl\n",
      "    result = self.forward(*input, **kwargs)\n",
      "  File \"/Users/copperwasp/Desktop/PredictiveCoding/OnlinePredictiveCoding/model.py\", line 258, in forward\n",
      "    errors.append(torch.norm(predict - errors[-1]))\n",
      "  File \"/Users/copperwasp/anaconda3/lib/python3.7/site-packages/torch/functional.py\", line 1077, in norm\n",
      "    return _VF.frobenius_norm(input)\n",
      "KeyboardInterrupt\n",
      "\n",
      "During handling of the above exception, another exception occurred:\n",
      "\n",
      "Traceback (most recent call last):\n",
      "  File \"/Users/copperwasp/anaconda3/lib/python3.7/site-packages/IPython/core/interactiveshell.py\", line 2040, in showtraceback\n",
      "    stb = value._render_traceback_()\n",
      "AttributeError: 'KeyboardInterrupt' object has no attribute '_render_traceback_'\n",
      "\n",
      "During handling of the above exception, another exception occurred:\n",
      "\n",
      "Traceback (most recent call last):\n",
      "  File \"/Users/copperwasp/anaconda3/lib/python3.7/site-packages/IPython/core/ultratb.py\", line 1101, in get_records\n",
      "    return _fixed_getinnerframes(etb, number_of_lines_of_context, tb_offset)\n",
      "  File \"/Users/copperwasp/anaconda3/lib/python3.7/site-packages/IPython/core/ultratb.py\", line 319, in wrapped\n",
      "    return f(*args, **kwargs)\n",
      "  File \"/Users/copperwasp/anaconda3/lib/python3.7/site-packages/IPython/core/ultratb.py\", line 353, in _fixed_getinnerframes\n",
      "    records = fix_frame_records_filenames(inspect.getinnerframes(etb, context))\n",
      "  File \"/Users/copperwasp/anaconda3/lib/python3.7/inspect.py\", line 1502, in getinnerframes\n",
      "    frameinfo = (tb.tb_frame,) + getframeinfo(tb, context)\n",
      "  File \"/Users/copperwasp/anaconda3/lib/python3.7/inspect.py\", line 1460, in getframeinfo\n",
      "    filename = getsourcefile(frame) or getfile(frame)\n",
      "  File \"/Users/copperwasp/anaconda3/lib/python3.7/inspect.py\", line 696, in getsourcefile\n",
      "    if getattr(getmodule(object, filename), '__loader__', None) is not None:\n",
      "  File \"/Users/copperwasp/anaconda3/lib/python3.7/inspect.py\", line 742, in getmodule\n",
      "    os.path.realpath(f)] = module.__name__\n",
      "  File \"/Users/copperwasp/anaconda3/lib/python3.7/posixpath.py\", line 395, in realpath\n",
      "    path, ok = _joinrealpath(filename[:0], filename, {})\n",
      "  File \"/Users/copperwasp/anaconda3/lib/python3.7/posixpath.py\", line 429, in _joinrealpath\n",
      "    if not islink(newpath):\n",
      "  File \"/Users/copperwasp/anaconda3/lib/python3.7/posixpath.py\", line 171, in islink\n",
      "    st = os.lstat(path)\n",
      "KeyboardInterrupt\n"
     ]
    },
    {
     "ename": "KeyboardInterrupt",
     "evalue": "",
     "output_type": "error",
     "traceback": [
      "\u001b[0;31m---------------------------------------------------------------------------\u001b[0m"
     ]
    }
   ],
   "source": [
    "results, masks, losses, errors = experiment()"
   ]
  },
  {
   "cell_type": "code",
   "execution_count": null,
   "metadata": {},
   "outputs": [],
   "source": []
  },
  {
   "cell_type": "code",
   "execution_count": null,
   "metadata": {},
   "outputs": [],
   "source": []
  }
 ],
 "metadata": {
  "kernelspec": {
   "display_name": "Python 3",
   "language": "python",
   "name": "python3"
  },
  "language_info": {
   "codemirror_mode": {
    "name": "ipython",
    "version": 3
   },
   "file_extension": ".py",
   "mimetype": "text/x-python",
   "name": "python",
   "nbconvert_exporter": "python",
   "pygments_lexer": "ipython3",
   "version": "3.7.4"
  }
 },
 "nbformat": 4,
 "nbformat_minor": 2
}
