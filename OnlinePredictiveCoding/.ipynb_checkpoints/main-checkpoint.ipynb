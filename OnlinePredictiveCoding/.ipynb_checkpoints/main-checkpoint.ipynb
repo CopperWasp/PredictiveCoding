{
 "cells": [
  {
   "cell_type": "code",
   "execution_count": 1,
   "metadata": {},
   "outputs": [
    {
     "name": "stdout",
     "output_type": "stream",
     "text": [
      "german hinge_gradient 0.3922 opc varying_gaussian\n",
      "german se_gradient 0.39764999999999995 opc varying_gaussian\n",
      "german hinge_oco 0.3961 opc varying_gaussian\n",
      "german opc 0.39174999999999993 opc varying_gaussian\n",
      "\n",
      "ionosphere hinge_gradient 0.42685714285714277 opc varying_gaussian\n",
      "ionosphere se_gradient 0.4505714285714286 opc varying_gaussian\n",
      "ionosphere hinge_oco 0.4265714285714285 opc varying_gaussian\n",
      "ionosphere opc 0.4192857142857143 opc varying_gaussian\n",
      "\n",
      "spambase hinge_gradient 0.4016413043478261 opc varying_gaussian\n",
      "spambase se_gradient 0.5095869565217391 opc varying_gaussian\n",
      "spambase hinge_oco 0.4010434782608696 opc varying_gaussian\n",
      "spambase opc 0.6631195652173912 opc varying_gaussian\n",
      "\n",
      "magic04 hinge_gradient 0.38485724801514276 opc varying_gaussian\n",
      "magic04 se_gradient 0.42747252747252745 opc varying_gaussian\n",
      "magic04 hinge_oco 0.3860429044639571 opc varying_gaussian\n",
      "magic04 opc 0.428602975971397 opc varying_gaussian\n",
      "\n"
     ]
    }
   ],
   "source": [
    "import model\n",
    "import dataloader as dl\n",
    "import numpy as np\n",
    "import trainer\n",
    "import parameters as p\n",
    "import copy\n",
    "\n",
    "np.random.seed(p.random_state)\n",
    "\n",
    "for dataset_name in p.datasets:\n",
    "    for model_type in p.models:\n",
    "        Xpath, ypath = dl.get_path(dataset_name)\n",
    "        X, y = dl.read_dataset(Xpath, ypath)\n",
    "        num_features = len(X[0])\n",
    "        m = p.models[model_type](num_features, p.learning_rate)\n",
    "        fold_errors, fold_losses, fold_weights = trainer.cross_validation(X, y, m, p.folds, p.scenarios[p.scenario])\n",
    "        print(dataset_name, model_type, np.mean(fold_errors), p.model_type, p.scenario)\n",
    "    print()"
   ]
  },
  {
   "cell_type": "code",
   "execution_count": null,
   "metadata": {},
   "outputs": [],
   "source": []
  },
  {
   "cell_type": "code",
   "execution_count": null,
   "metadata": {},
   "outputs": [],
   "source": []
  },
  {
   "cell_type": "code",
   "execution_count": null,
   "metadata": {},
   "outputs": [],
   "source": []
  }
 ],
 "metadata": {
  "kernelspec": {
   "display_name": "Python 3",
   "language": "python",
   "name": "python3"
  },
  "language_info": {
   "codemirror_mode": {
    "name": "ipython",
    "version": 3
   },
   "file_extension": ".py",
   "mimetype": "text/x-python",
   "name": "python",
   "nbconvert_exporter": "python",
   "pygments_lexer": "ipython3",
   "version": "3.7.4"
  }
 },
 "nbformat": 4,
 "nbformat_minor": 4
}
