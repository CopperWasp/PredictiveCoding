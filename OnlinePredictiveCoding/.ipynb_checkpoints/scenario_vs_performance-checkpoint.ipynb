{
 "cells": [
  {
   "cell_type": "markdown",
   "metadata": {},
   "source": [
    "# Scenario vs. Performance\n",
    "In this notebook, we explore how the performance of various online learners in different datasets change based on the simulation type we employed. The types are:\n",
    "   1. Remove features following a discrete-uniform distribution\n",
    "   2. Remove features following a multivariate Gaussian distribution w/ threshold 0.\n",
    "   \n",
    "## Datasets\n",
    "1. German\n",
    "2. Ionosphere\n",
    "3. Spambase\n",
    "4. Magic\n",
    "5. A8a\n",
    "\n",
    "Below, we define a generic function to read datasets for the experiments."
   ]
  },
  {
   "cell_type": "code",
   "execution_count": 1,
   "metadata": {},
   "outputs": [],
   "source": [
    "import pandas as pd\n",
    "import numpy as np\n",
    "\n",
    "\n",
    "dataset_names = [\"german\", \"ionosphere\", \"spambase\", \"magic\", \"a8a\"]\n",
    "root_path, extension = \"/datasets/\", \"_numeric\"\n",
    "\n",
    "def get_path(name):\n",
    "    '''returns a path pair to the preprocessed datasets\n",
    "    X and y csv files.'''\n",
    "    path = root_path + name + extension\n",
    "    return path + \"_X.csv\", path + \"_y.csv\"\n",
    "\n",
    "\n",
    "def read_dataset(X_path, y_path):\n",
    "    '''reads and returns numpy arrays in a given pair of paths for \n",
    "    X and y.'''\n",
    "    X = pd.read_csv(X_path).values\n",
    "    y = pd.read_csv(y_path)['0'].values\n",
    "    return X, y"
   ]
  },
  {
   "cell_type": "markdown",
   "metadata": {},
   "source": [
    "## Baseline Learners\n",
    "1. Gradient-based learner with Hinge Loss\n",
    "2. OCO based learner with Hinge Loss"
   ]
  },
  {
   "cell_type": "code",
   "execution_count": null,
   "metadata": {},
   "outputs": [],
   "source": [
    "class predictor:\n",
    "    def __init__(input_size):\n",
    "        self.w = np.zeros(input_size)\n",
    "        \n",
    "    def predict(x):\n",
    "        return np.dot(self.w, x)\n",
    "        \n",
    "\n",
    "class gradient_learner(predictor):\n",
    "    def __init_(input_size):\n",
    "        super.__init__(input_size)\n",
    "        \n",
    "    def update(x, y, yhat):\n",
    "        loss = np.maximum(0, 1.0 - y * np.dot(self.w, x))\n",
    "        if loss > 0: self.w += x * y * lr\n",
    "        return loss\n",
    "            \n",
    "        \n",
    "        \n",
    "\n",
    "class oco_learner(predictor):\n",
    "    def __init__(input_size):\n",
    "        super.__init__(input_size)\n",
    "\n",
    "    def update(x, y, yhat):\n",
    "        loss = np.maximum(0, 1.0 - y * np.dot(self.w, x))\n",
    "        \n",
    "        if loss > 0:\n",
    "            margin = np.minimum(X, loss/np.square(np.linalg.norm(z)))\n",
    "            self.w += margin * x * y\n",
    "            \n",
    "        return loss\n",
    "            \n",
    "            \n",
    "\n",
    "def train(X, X_mask, y, learner):\n",
    "    '''Generic training function for all learners. \n",
    "    X_mask is for simulating different settings. \n",
    "    To learn from full data, set X_mask to a unit matrix (all ones).\n",
    "    Trains for 1-pass over the given data.'''\n",
    "    \n",
    "    losses, yhat = [], []\n",
    "    for i in range(len(X)):\n",
    "        X_i, y_i = X[i] * X_mask[i], y[i]\n",
    "        yhat_i = learner.predict(x)\n",
    "        \n",
    "        \n",
    "    \n",
    "    \n",
    "    \n",
    "    \n",
    "    \n",
    "    \n",
    "    "
   ]
  },
  {
   "cell_type": "markdown",
   "metadata": {},
   "source": [
    "## Experiment Scenarios\n",
    "1. Full Data\n",
    "2. Varying Features w/ Discrete Uniform\n",
    "3. Varying Features w/ Multivariate Gaussian"
   ]
  },
  {
   "cell_type": "code",
   "execution_count": null,
   "metadata": {},
   "outputs": [],
   "source": []
  },
  {
   "cell_type": "code",
   "execution_count": null,
   "metadata": {},
   "outputs": [],
   "source": [
    "# hyperparameters\n",
    "# C, lambda, lr"
   ]
  }
 ],
 "metadata": {
  "kernelspec": {
   "display_name": "Python 3",
   "language": "python",
   "name": "python3"
  },
  "language_info": {
   "codemirror_mode": {
    "name": "ipython",
    "version": 3
   },
   "file_extension": ".py",
   "mimetype": "text/x-python",
   "name": "python",
   "nbconvert_exporter": "python",
   "pygments_lexer": "ipython3",
   "version": "3.7.4"
  }
 },
 "nbformat": 4,
 "nbformat_minor": 2
}
